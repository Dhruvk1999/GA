{
 "cells": [
  {
   "cell_type": "code",
   "execution_count": 1,
   "metadata": {},
   "outputs": [
    {
     "name": "stderr",
     "output_type": "stream",
     "text": [
      "/usr/lib/python3/dist-packages/scipy/__init__.py:146: UserWarning: A NumPy version >=1.17.3 and <1.25.0 is required for this version of SciPy (detected version 1.26.2\n",
      "  warnings.warn(f\"A NumPy version >={np_minversion} and <{np_maxversion}\"\n"
     ]
    }
   ],
   "source": [
    "from strategies.alphas import * \n",
    "import yfinance as yf"
   ]
  },
  {
   "cell_type": "code",
   "execution_count": null,
   "metadata": {},
   "outputs": [],
   "source": []
  },
  {
   "cell_type": "code",
   "execution_count": 2,
   "metadata": {},
   "outputs": [],
   "source": [
    "import importlib\n",
    "\n",
    "def prepData(data):\n",
    "    tickers = []\n",
    "    alphas_selected = [12,102]\n",
    "\n",
    "    # alpha_function_names = [\"alpha\"+str(x) for x in range(1,102)]\n",
    "    alpha_function_names = [\"alpha\"+str(x) for x in alphas_selected]\n",
    "    print(alpha_function_names)\n",
    "    alpha_functions = {}\n",
    "    failed_alphas = []\n",
    "\n",
    "    for alpha_name in alpha_function_names:\n",
    "\n",
    "        try:\n",
    "            # print(f\"for {alpha_name}\\n\")\n",
    "\n",
    "            module = importlib.import_module(\"strategies.alphas\")\n",
    "            alpha_function = getattr(module, alpha_name)\n",
    "            alpha_functions[alpha_name] = alpha_function\n",
    "\n",
    "            data[alpha_name] = alpha_function(data)\n",
    "            \n",
    "\n",
    "            \n",
    "        except Exception as ex:\n",
    "            failed_alphas.append(alpha_name)\n",
    "    \n",
    "    return data"
   ]
  },
  {
   "cell_type": "code",
   "execution_count": null,
   "metadata": {},
   "outputs": [],
   "source": []
  },
  {
   "cell_type": "code",
   "execution_count": 3,
   "metadata": {},
   "outputs": [],
   "source": [
    "from sklearn.ensemble import RandomForestClassifier\n",
    "from sklearn.metrics import accuracy_score,precision_score\n",
    "from strategies.alphas import *\n",
    "\n",
    "\n",
    "def compute_labels(data, x_pct, n_days):\n",
    "    labels = []\n",
    "    for index, row in data.iterrows():\n",
    "        row_index = data.index.get_loc(index)  # Get the integer index\n",
    "        future_prices = data['Close'].iloc[row_index + 1:row_index + n_days + 1]\n",
    "        price_change = (future_prices / row['Close']) - 1\n",
    "        if any(price_change >= x_pct):\n",
    "            labels.append(1)  # Price went up by x_pct or more within next n days\n",
    "        else:\n",
    "            labels.append(0)  # Price didn't go up by x_pct within next n days\n",
    "    return labels\n",
    "\n",
    "def train_random_forest(data,data_test):\n",
    "    # Replace X and y with your actual dataset\n",
    "\n",
    "    data = prepData(data)\n",
    "    print(len(data))\n",
    "    y = compute_labels(data, 0.03, 3)\n",
    "\n",
    "    data=data.drop([\"Close\",\"Open\",\"Volume\",'High', 'Low', 'Adj Close','returns'],axis =1 )\n",
    "    # print(\"this is being trained upon\",data)\n",
    "\n",
    "    data_test = prepData(data_test)\n",
    "    y_test = compute_labels(data_test,0.03,3)\n",
    "    data_test=data_test.drop([\"Close\",\"Open\",\"Volume\",'High', 'Low', 'Adj Close','returns'],axis =1 )\n",
    "\n",
    "\n",
    "\n",
    "    # Split the dataset into training and testing sets\n",
    "\n",
    "    # Initialize the random forest classifier\n",
    "    rf_classifier = RandomForestClassifier(n_estimators=100, random_state=43)\n",
    "\n",
    "    # Train the random forest classifier\n",
    "    rf_classifier.fit(data, y)\n",
    "\n",
    "    # Make predictions on the test set\n",
    "    y_pred = rf_classifier.predict(data_test)\n",
    "\n",
    "    # Evaluate the model\n",
    "    accuracy = accuracy_score(y_test, y_pred)\n",
    "    precsion = precision_score(y_test, y_pred)\n",
    "\n",
    "    print(\"Accuracy:\", accuracy)\n",
    "    print(\"Precsion:\", precsion)\n",
    "\n",
    "    return rf_classifier,[y_pred,y_test]"
   ]
  },
  {
   "cell_type": "code",
   "execution_count": null,
   "metadata": {},
   "outputs": [],
   "source": []
  },
  {
   "cell_type": "code",
   "execution_count": 5,
   "metadata": {},
   "outputs": [],
   "source": [
    "from sklearn.neural_network import MLPClassifier\n",
    "\n",
    "def train_neural_network(data, data_test):\n",
    "    # Preprocess the data (replace with your preprocessing steps)\n",
    "    data = prepData(data)\n",
    "    data_test = prepData(data_test)\n",
    "    data = data.dropna()\n",
    "    data_test = data_test.dropna()\n",
    "    \n",
    "    # Compute labels\n",
    "    y = compute_labels(data, 0.03, 3)\n",
    "    y_test = compute_labels(data_test, 0.03, 3)\n",
    "    \n",
    "    # Drop unnecessary columns\n",
    "    drop_columns = [\"Close\", \"Open\", \"Volume\", 'High', 'Low', 'Adj Close']\n",
    "    data = data.drop(drop_columns, axis=1)\n",
    "    data_test = data_test.drop(drop_columns, axis=1)\n",
    "    \n",
    "    # Initialize the MLP classifier\n",
    "    mlp_classifier = MLPClassifier(hidden_layer_sizes=(100,), activation='relu', solver='adam', random_state=43)\n",
    "    \n",
    "    # Train the MLP classifier\n",
    "    mlp_classifier.fit(data, y)\n",
    "    \n",
    "    # Make predictions on the test set\n",
    "    y_pred = mlp_classifier.predict(data_test)\n",
    "    \n",
    "    # Evaluate the model\n",
    "    accuracy = accuracy_score(y_test, y_pred)\n",
    "    precsion = precision_score(y_test, y_pred)\n",
    "\n",
    "    print(\"Accuracy:\", accuracy)\n",
    "    print(\"Precsion:\", precsion)\n",
    "    \n",
    "    return mlp_classifier, [y_pred, y_test]\n"
   ]
  },
  {
   "cell_type": "code",
   "execution_count": 6,
   "metadata": {},
   "outputs": [
    {
     "name": "stdout",
     "output_type": "stream",
     "text": [
      "[*********************100%%**********************]  1 of 1 completed\n",
      "[*********************100%%**********************]  1 of 1 completed\n",
      "['alpha12', 'alpha102']\n",
      "['alpha12', 'alpha102']\n",
      "Accuracy: 0.9635036496350365\n",
      "Precsion: 0.0\n"
     ]
    },
    {
     "name": "stderr",
     "output_type": "stream",
     "text": [
      "/home/dhruv/.local/lib/python3.10/site-packages/sklearn/neural_network/_multilayer_perceptron.py:691: ConvergenceWarning: Stochastic Optimizer: Maximum iterations (200) reached and the optimization hasn't converged yet.\n",
      "  warnings.warn(\n",
      "/home/dhruv/.local/lib/python3.10/site-packages/sklearn/metrics/_classification.py:1497: UndefinedMetricWarning: Precision is ill-defined and being set to 0.0 due to no predicted samples. Use `zero_division` parameter to control this behavior.\n",
      "  _warn_prf(average, modifier, f\"{metric.capitalize()} is\", len(result))\n"
     ]
    }
   ],
   "source": [
    "train_data = yf.download(\"itc.ns\",'2022-01-01','2023-08-08')\n",
    "test_data= yf.download(\"itc.ns\", start = '2023-08-01',end='2024-02-22')\n",
    "\n",
    "rf,lis = train_neural_network(train_data,test_data)\n",
    "# rf,lis = train_random_forest(train_data,test_data)\n",
    "\n"
   ]
  },
  {
   "cell_type": "code",
   "execution_count": null,
   "metadata": {},
   "outputs": [],
   "source": []
  },
  {
   "cell_type": "code",
   "execution_count": 7,
   "metadata": {},
   "outputs": [
    {
     "data": {
      "text/plain": [
       "<AxesSubplot:>"
      ]
     },
     "execution_count": 7,
     "metadata": {},
     "output_type": "execute_result"
    },
    {
     "data": {
      "image/png": "[encoded data removed]",
      "text/plain": [
       "<Figure size 432x288 with 1 Axes>"
      ]
     },
     "metadata": {
      "needs_background": "light"
     },
     "output_type": "display_data"
    }
   ],
   "source": [
    "pd.Series(lis[0]).hist()\n"
   ]
  },
  {
   "cell_type": "code",
   "execution_count": 8,
   "metadata": {},
   "outputs": [
    {
     "data": {
      "text/plain": [
       "<AxesSubplot:>"
      ]
     },
     "execution_count": 8,
     "metadata": {},
     "output_type": "execute_result"
    },
    {
     "data": {
      "image/png": "[encoded data removed]",
      "text/plain": [
       "<Figure size 432x288 with 1 Axes>"
      ]
     },
     "metadata": {
      "needs_background": "light"
     },
     "output_type": "display_data"
    }
   ],
   "source": [
    "pd.Series(lis[1]).hist()"
   ]
  },
  {
   "cell_type": "code",
   "execution_count": 9,
   "metadata": {},
   "outputs": [
    {
     "ename": "ValueError",
     "evalue": "Length of values (138) does not match length of index (137)",
     "output_type": "error",
     "traceback": [
      "\u001b[0;31m---------------------------------------------------------------------------\u001b[0m",
      "\u001b[0;31mValueError\u001b[0m                                Traceback (most recent call last)",
      "\u001b[0;32m/tmp/ipykernel_6022/3907941570.py\u001b[0m in \u001b[0;36m<module>\u001b[0;34m\u001b[0m\n\u001b[1;32m      2\u001b[0m \u001b[0;34m\u001b[0m\u001b[0m\n\u001b[1;32m      3\u001b[0m \u001b[0mresults\u001b[0m \u001b[0;34m=\u001b[0m \u001b[0mresults\u001b[0m\u001b[0;34m.\u001b[0m\u001b[0mtranspose\u001b[0m\u001b[0;34m(\u001b[0m\u001b[0;34m)\u001b[0m\u001b[0;34m\u001b[0m\u001b[0;34m\u001b[0m\u001b[0m\n\u001b[0;32m----> 4\u001b[0;31m \u001b[0mresults\u001b[0m\u001b[0;34m[\u001b[0m\u001b[0;34m\"Date\"\u001b[0m\u001b[0;34m]\u001b[0m \u001b[0;34m=\u001b[0m \u001b[0mtest_data\u001b[0m\u001b[0;34m.\u001b[0m\u001b[0mindex\u001b[0m\u001b[0;34m\u001b[0m\u001b[0;34m\u001b[0m\u001b[0m\n\u001b[0m\u001b[1;32m      5\u001b[0m \u001b[0mresults\u001b[0m\u001b[0;34m[\u001b[0m\u001b[0mresults\u001b[0m\u001b[0;34m[\u001b[0m\u001b[0;36m0\u001b[0m\u001b[0;34m]\u001b[0m \u001b[0;34m==\u001b[0m \u001b[0;36m1\u001b[0m\u001b[0;34m]\u001b[0m\u001b[0;34m\u001b[0m\u001b[0;34m\u001b[0m\u001b[0m\n",
      "\u001b[0;32m~/.local/lib/python3.10/site-packages/pandas/core/frame.py\u001b[0m in \u001b[0;36m__setitem__\u001b[0;34m(self, key, value)\u001b[0m\n\u001b[1;32m   4089\u001b[0m         \u001b[0;32melse\u001b[0m\u001b[0;34m:\u001b[0m\u001b[0;34m\u001b[0m\u001b[0;34m\u001b[0m\u001b[0m\n\u001b[1;32m   4090\u001b[0m             \u001b[0;31m# set column\u001b[0m\u001b[0;34m\u001b[0m\u001b[0;34m\u001b[0m\u001b[0m\n\u001b[0;32m-> 4091\u001b[0;31m             \u001b[0mself\u001b[0m\u001b[0;34m.\u001b[0m\u001b[0m_set_item\u001b[0m\u001b[0;34m(\u001b[0m\u001b[0mkey\u001b[0m\u001b[0;34m,\u001b[0m \u001b[0mvalue\u001b[0m\u001b[0;34m)\u001b[0m\u001b[0;34m\u001b[0m\u001b[0;34m\u001b[0m\u001b[0m\n\u001b[0m\u001b[1;32m   4092\u001b[0m \u001b[0;34m\u001b[0m\u001b[0m\n\u001b[1;32m   4093\u001b[0m     \u001b[0;32mdef\u001b[0m \u001b[0m_setitem_slice\u001b[0m\u001b[0;34m(\u001b[0m\u001b[0mself\u001b[0m\u001b[0;34m,\u001b[0m \u001b[0mkey\u001b[0m\u001b[0;34m:\u001b[0m \u001b[0mslice\u001b[0m\u001b[0;34m,\u001b[0m \u001b[0mvalue\u001b[0m\u001b[0;34m)\u001b[0m \u001b[0;34m->\u001b[0m \u001b[0;32mNone\u001b[0m\u001b[0;34m:\u001b[0m\u001b[0;34m\u001b[0m\u001b[0;34m\u001b[0m\u001b[0m\n",
      "\u001b[0;32m~/.local/lib/python3.10/site-packages/pandas/core/frame.py\u001b[0m in \u001b[0;36m_set_item\u001b[0;34m(self, key, value)\u001b[0m\n\u001b[1;32m   4298\u001b[0m         \u001b[0mensure\u001b[0m \u001b[0mhomogeneity\u001b[0m\u001b[0;34m.\u001b[0m\u001b[0;34m\u001b[0m\u001b[0;34m\u001b[0m\u001b[0m\n\u001b[1;32m   4299\u001b[0m         \"\"\"\n\u001b[0;32m-> 4300\u001b[0;31m         \u001b[0mvalue\u001b[0m\u001b[0;34m,\u001b[0m \u001b[0mrefs\u001b[0m \u001b[0;34m=\u001b[0m \u001b[0mself\u001b[0m\u001b[0;34m.\u001b[0m\u001b[0m_sanitize_column\u001b[0m\u001b[0;34m(\u001b[0m\u001b[0mvalue\u001b[0m\u001b[0;34m)\u001b[0m\u001b[0;34m\u001b[0m\u001b[0;34m\u001b[0m\u001b[0m\n\u001b[0m\u001b[1;32m   4301\u001b[0m \u001b[0;34m\u001b[0m\u001b[0m\n\u001b[1;32m   4302\u001b[0m         if (\n",
      "\u001b[0;32m~/.local/lib/python3.10/site-packages/pandas/core/frame.py\u001b[0m in \u001b[0;36m_sanitize_column\u001b[0;34m(self, value)\u001b[0m\n\u001b[1;32m   5037\u001b[0m \u001b[0;34m\u001b[0m\u001b[0m\n\u001b[1;32m   5038\u001b[0m         \u001b[0;32mif\u001b[0m \u001b[0mis_list_like\u001b[0m\u001b[0;34m(\u001b[0m\u001b[0mvalue\u001b[0m\u001b[0;34m)\u001b[0m\u001b[0;34m:\u001b[0m\u001b[0;34m\u001b[0m\u001b[0;34m\u001b[0m\u001b[0m\n\u001b[0;32m-> 5039\u001b[0;31m             \u001b[0mcom\u001b[0m\u001b[0;34m.\u001b[0m\u001b[0mrequire_length_match\u001b[0m\u001b[0;34m(\u001b[0m\u001b[0mvalue\u001b[0m\u001b[0;34m,\u001b[0m \u001b[0mself\u001b[0m\u001b[0;34m.\u001b[0m\u001b[0mindex\u001b[0m\u001b[0;34m)\u001b[0m\u001b[0;34m\u001b[0m\u001b[0;34m\u001b[0m\u001b[0m\n\u001b[0m\u001b[1;32m   5040\u001b[0m         \u001b[0;32mreturn\u001b[0m \u001b[0msanitize_array\u001b[0m\u001b[0;34m(\u001b[0m\u001b[0mvalue\u001b[0m\u001b[0;34m,\u001b[0m \u001b[0mself\u001b[0m\u001b[0;34m.\u001b[0m\u001b[0mindex\u001b[0m\u001b[0;34m,\u001b[0m \u001b[0mcopy\u001b[0m\u001b[0;34m=\u001b[0m\u001b[0;32mTrue\u001b[0m\u001b[0;34m,\u001b[0m \u001b[0mallow_2d\u001b[0m\u001b[0;34m=\u001b[0m\u001b[0;32mTrue\u001b[0m\u001b[0;34m)\u001b[0m\u001b[0;34m,\u001b[0m \u001b[0;32mNone\u001b[0m\u001b[0;34m\u001b[0m\u001b[0;34m\u001b[0m\u001b[0m\n\u001b[1;32m   5041\u001b[0m \u001b[0;34m\u001b[0m\u001b[0m\n",
      "\u001b[0;32m~/.local/lib/python3.10/site-packages/pandas/core/common.py\u001b[0m in \u001b[0;36mrequire_length_match\u001b[0;34m(data, index)\u001b[0m\n\u001b[1;32m    559\u001b[0m     \"\"\"\n\u001b[1;32m    560\u001b[0m     \u001b[0;32mif\u001b[0m \u001b[0mlen\u001b[0m\u001b[0;34m(\u001b[0m\u001b[0mdata\u001b[0m\u001b[0;34m)\u001b[0m \u001b[0;34m!=\u001b[0m \u001b[0mlen\u001b[0m\u001b[0;34m(\u001b[0m\u001b[0mindex\u001b[0m\u001b[0;34m)\u001b[0m\u001b[0;34m:\u001b[0m\u001b[0;34m\u001b[0m\u001b[0;34m\u001b[0m\u001b[0m\n\u001b[0;32m--> 561\u001b[0;31m         raise ValueError(\n\u001b[0m\u001b[1;32m    562\u001b[0m             \u001b[0;34m\"Length of values \"\u001b[0m\u001b[0;34m\u001b[0m\u001b[0;34m\u001b[0m\u001b[0m\n\u001b[1;32m    563\u001b[0m             \u001b[0;34mf\"({len(data)}) \"\u001b[0m\u001b[0;34m\u001b[0m\u001b[0;34m\u001b[0m\u001b[0m\n",
      "\u001b[0;31mValueError\u001b[0m: Length of values (138) does not match length of index (137)"
     ]
    }
   ],
   "source": [
    "results=pd.DataFrame( [lis[1]] )\n",
    "\n",
    "results = results.transpose()\n",
    "results[\"Date\"] = test_data.index\n",
    "results[results[0] == 1]"
   ]
  },
  {
   "cell_type": "code",
   "execution_count": null,
   "metadata": {},
   "outputs": [],
   "source": [
    "from utils.ga_utils import *\n",
    "import warnings\n",
    "from utils.optimizer import *\n",
    "from utils.data_utils import * \n",
    "from utils.train_rf import *\n",
    "\n",
    "\n",
    "def evaluate_strategy_test(data,rf_model,*args):\n",
    "    data = data.copy()  # Make a copy of the data to avoid modifying the original DataFrame\n",
    "    # data['alpha'] = alpha_fun(data, *args[:-2])  # Assuming you still want to compute alpha\n",
    "    # data['alpha102'] = alpha102(data,2,10)\n",
    "    stop_loss_percentage = args[-1]\n",
    "    # print(f\"paramters passed to the random forest{args[:-2]}\")\n",
    "    alpdata  = prepData(data)\n",
    "    alpdata=alpdata.drop([\"Close\",\"Open\",\"Volume\",'High', 'Low', 'Adj Close'],axis =1 )\n",
    "\n",
    "\n",
    "\n",
    "    position = 0  # 0 for no position, 1 for long position\n",
    "    profit = 0\n",
    "    total_trades = 0\n",
    "    winning_trades = 0\n",
    "    stricly_winning_trades = 0\n",
    "    allocated_funds = 100000\n",
    "    returns = []\n",
    "\n",
    "\n",
    "\n",
    "    for i in range(1, len(data)):\n",
    "        try:\n",
    "            if position == 0:\n",
    "                # Predict using the random forest model\n",
    "                if rf_model.predict([alpdata.iloc[i]])[0] == 1:  # If model predicts 1, enter long position\n",
    "                    position = 1\n",
    "                    entry_price = data['Close'][i]\n",
    "                    stop_loss_price = entry_price - (entry_price * 0.01 * stop_loss_percentage)\n",
    "                    print(f\"Entry: {entry_price} on {data.index[i]} Stop Loss: {stop_loss_price}\")\n",
    "\n",
    "                    total_trades += 1\n",
    "                    no_of_shares = allocated_funds // entry_price\n",
    "            elif position == 1:\n",
    "                if data['Close'][i] > entry_price:  # Adjust stop loss only when the price goes up\n",
    "                    stop_loss_price = max(stop_loss_price, data['Close'][i] - (data['Close'][i] * 0.01 * stop_loss_percentage))\n",
    "                    \n",
    "                if data['Low'][i] < stop_loss_price :#:or data['alpha'][i] < threshold_exit:  # add condition for time based exit here\n",
    "                    position = 0  # Sell due to stop loss\n",
    "                    exit_price = data['Open'][i] if stop_loss_price > data['Open'][i] else stop_loss_price\n",
    "                    no_of_shares = allocated_funds//entry_price\n",
    "                    trade_profit = (exit_price - entry_price) * no_of_shares  # Calculate profit/loss\n",
    "                    profit=trade_profit\n",
    "                    allocated_funds += profit\n",
    "                    return_on_trade = (exit_price -entry_price) * 100/entry_price\n",
    "                    returns.append(return_on_trade)\n",
    "                    print(f\"Exit: {exit_price} on {data.index[i]} exited on stop loss Allocated Funds {allocated_funds}\")\n",
    "           \n",
    "                    if(exit_price>= entry_price):\n",
    "                        winning_trades += 1\n",
    "                    if(exit_price> entry_price):\n",
    "                        stricly_winning_trades += 1\n",
    "            # Rest of the code remains unchanged\n",
    "\n",
    "        except Exception as ex:\n",
    "            print(\"Error occurred:\", ex)\n",
    "            break\n",
    "\n",
    "    # Calculate and return metrics\n",
    "    win_rate = winning_trades / total_trades if total_trades != 0 else 0\n",
    "    metrics = {\n",
    "        \"Profit\": profit,\n",
    "        \"Total Trades\": total_trades,\n",
    "        \"Winning Trades\": winning_trades,\n",
    "        \"Strictly Winning Trades\": stricly_winning_trades,\n",
    "        \"Win Rate\": win_rate,\n",
    "        \"Allocated Funds\": allocated_funds,\n",
    "        \"Sharpe Ratio\": calculate_sortino_ratio(pd.Series(returns))\n",
    "    }\n",
    "    \n",
    "    return metrics\n",
    "\n",
    "\n",
    "\n"
   ]
  },
  {
   "cell_type": "code",
   "execution_count": null,
   "metadata": {},
   "outputs": [
    {
     "name": "stdout",
     "output_type": "stream",
     "text": [
      "['alpha14', 'alpha102']\n",
      "Error occurred: X has 3 features, but RandomForestClassifier is expecting 2 features as input.\n"
     ]
    },
    {
     "name": "stderr",
     "output_type": "stream",
     "text": [
      "/home/dhruv/.local/lib/python3.10/site-packages/sklearn/base.py:493: UserWarning: X does not have valid feature names, but RandomForestClassifier was fitted with feature names\n",
      "  warnings.warn(\n"
     ]
    },
    {
     "data": {
      "text/plain": [
       "{'Profit': 0,\n",
       " 'Total Trades': 0,\n",
       " 'Winning Trades': 0,\n",
       " 'Strictly Winning Trades': 0,\n",
       " 'Win Rate': 0,\n",
       " 'Allocated Funds': 100000,\n",
       " 'Sharpe Ratio': nan}"
      ]
     },
     "execution_count": 29,
     "metadata": {},
     "output_type": "execute_result"
    }
   ],
   "source": [
    "evaluate_strategy_test(train_data,rf,1)"
   ]
  },
  {
   "cell_type": "code",
   "execution_count": null,
   "metadata": {},
   "outputs": [],
   "source": []
  }
 ],
 "metadata": {
  "kernelspec": {
   "display_name": "Python 3",
   "language": "python",
   "name": "python3"
  },
  "language_info": {
   "codemirror_mode": {
    "name": "ipython",
    "version": 3
   },
   "file_extension": ".py",
   "mimetype": "text/x-python",
   "name": "python",
   "nbconvert_exporter": "python",
   "pygments_lexer": "ipython3",
   "version": "3.10.12"
  }
 },
 "nbformat": 4,
 "nbformat_minor": 2
}
