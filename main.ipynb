{
 "cells": [
  {
   "cell_type": "code",
   "execution_count": 7,
   "metadata": {},
   "outputs": [],
   "source": [
    "from data.fetch_data import *\n",
    "from strategies.alphas import *\n",
    "import random\n",
    "from utils.ga_utils import *\n",
    "import warnings\n",
    "from utils.optimizer import *\n",
    "from utils.data_utils import * \n",
    "\n",
    "warnings.filterwarnings(\"ignore\")"
   ]
  },
  {
   "cell_type": "code",
   "execution_count": 59,
   "metadata": {},
   "outputs": [
    {
     "name": "stdout",
     "output_type": "stream",
     "text": [
      "[*********************100%%**********************]  1 of 1 completed\n"
     ]
    }
   ],
   "source": [
    "stock_data = fetch_stock_data(\"ITC.NS\",'2022-08-01','2023-08-08')"
   ]
  },
  {
   "cell_type": "code",
   "execution_count": 62,
   "metadata": {},
   "outputs": [],
   "source": [
    "def evaluate_strategy(data,delta_lookback=2, correlation_window=6,threshold = 0,stop_loss_percentage = 1):\n",
    "    data[\"alpha\"] = alpha11(data,delta_lookback, correlation_window)\n",
    "    data[\"alpha\"] = normalize_alphas(data[\"alpha\"])\n",
    "    \n",
    "    data = data.dropna()\n",
    "\n",
    "    position = 0  # 0 for no position, 1 for long position\n",
    "    profit = 0\n",
    "    total_trades = 0\n",
    "    winning_trades = 0\n",
    "    stricly_winning_trades = 0\n",
    "    allocated_funds = 100000\n",
    "    no_of_shares = 0\n",
    "    stop_loss_price = 0\n",
    "    returns = []\n",
    "\n",
    "    for i in range(1,len(data)):\n",
    "        try:\n",
    "\n",
    "            if position == 0:\n",
    "                if data['alpha'][i] > threshold: \n",
    "                \n",
    "                    position = 1  # Buy (enter long position)\n",
    "                    entry_price = data['Close'][i]\n",
    "                    stop_loss_price = entry_price - (entry_price * 0.01 * stop_loss_percentage)\n",
    "                    # print(f\"Entry: {entry_price} on {data.index[i]} Stop Loss: {stop_loss_price}\")\n",
    "                    total_trades += 1\n",
    "                    no_of_shares = allocated_funds//entry_price\n",
    "                    \n",
    "\n",
    "                    \n",
    "            elif position == 1 :\n",
    "                \n",
    "                if data['Close'][i] > entry_price:  # Adjust stop loss only when the price goes up\n",
    "                    stop_loss_price = max(stop_loss_price, data['Close'][i] - (data['Close'][i] * 0.01 * stop_loss_percentage))\n",
    "                    \n",
    "                if data['Low'][i] < stop_loss_price:\n",
    "                    position = 0  # Sell due to stop loss\n",
    "                    exit_price = data['Open'][i] if stop_loss_price > data['Open'][i] else stop_loss_price\n",
    "                    trade_profit = (exit_price - entry_price) * no_of_shares  # Calculate profit/loss\n",
    "                    profit=trade_profit\n",
    "                    allocated_funds += profit\n",
    "                    no_of_shares =0\n",
    "                    return_on_trade = (exit_price -entry_price) * 100/entry_price\n",
    "                    returns.append(return_on_trade)\n",
    "                    # print(f\"Exit: {exit_price} on {data.index[i]} exited on stop loss Allocated Funds {allocated_funds}\")\n",
    "                    # print(f\"Profit: {profit}\")\n",
    "                    \n",
    "                    # mask = (results_data['Symbol'] == symbol) & (results_data['Exit_Date'].isnull())\n",
    "                    # results_data.loc[mask, 'Exit_Date'] = data.index[i]\n",
    "                    # results_data.loc[mask, 'Exit_Price'] = exit_price\n",
    "           \n",
    "                    if(exit_price>= entry_price):\n",
    "                        winning_trades += 1\n",
    "                    if(exit_price> entry_price):\n",
    "                        stricly_winning_trades += 1\n",
    "                # elif data['MACD_E'][i] < data['Signal_E'][i]:\n",
    "                #     position = 0  # Sell due to exit condition\n",
    "                #     exit_price = data['Close'][i]\n",
    "                #     trade_profit = (exit_price - entry_price) * no_of_shares  # Calculate profit/loss\n",
    "                #     profit=trade_profit#                     \n",
    "                #     # print(f\"Exit: {exit_price} on {data.index[i]} exited on stop loss Allocated Funds {allocated_funds}\")\n",
    "                #     # print(f\"Profit: {profit}\")\n",
    "\n",
    "                #     allocated_funds += profit\n",
    "                    \n",
    "                    \n",
    "                #     # mask = (results_data['Symbol'] == symbol) & (results_data['Exit_Date'].isnull())\n",
    "                #     # results_data.loc[mask, 'Exit_Date'] = data.index[i]\n",
    "                #     # results_data.loc[mask, 'Exit_Price'] = exit_price\n",
    "\n",
    "                #     no_of_shares =0\n",
    "                #     if(exit_price>= entry_price):\n",
    "                #         winning_trades += 1\n",
    "                #     if(exit_price> entry_price):\n",
    "                #         stricly_winning_trades += 1\n",
    "            \n",
    "        except Exception as ex:\n",
    "            print(\"Something caused the error\",ex)\n",
    "            break\n",
    "        win_rate = winning_trades/total_trades if total_trades != 0 else 0\n",
    "\n",
    "            # Calculate metrics\n",
    "        metrics = {\n",
    "            \"Profit\": profit,\n",
    "            \"Total Trades\": total_trades,\n",
    "            \"Winning Trades\": winning_trades,\n",
    "            \"Strictly Winning Trades\": stricly_winning_trades,\n",
    "            \"Win Rate\": win_rate,\n",
    "            \"Allocated Funds\": allocated_funds,\n",
    "            \"Sharpe Ratio\": calculate_sortino_ratio(pd.Series(returns))\n",
    "        }\n",
    "\n",
    "    return metrics\n",
    "    \n"
   ]
  },
  {
   "cell_type": "code",
   "execution_count": null,
   "metadata": {},
   "outputs": [],
   "source": []
  },
  {
   "cell_type": "code",
   "execution_count": 65,
   "metadata": {},
   "outputs": [],
   "source": [
    "# GA: Initialization\n",
    "def generate_individual():\n",
    "    \n",
    "    # Additional parameters for the trading strategy\n",
    "    param1 = random.randint(2, 20)\n",
    "    param2 = random.randint(3, 20)\n",
    "    threshold = random.uniform(0, 1)\n",
    "    fast_period = random.randint(2,10)\n",
    "    # slow_period = random.randint(fast_period)\n",
    "    # slow_p_exit = random.randint(fast_p_exit, 20)\n",
    "    stop_loss_percentage = random.uniform(-1, 2)\n",
    "    \n",
    "    return  [param1,param2,threshold,stop_loss_percentage]\n",
    "\n",
    "\n",
    "\n"
   ]
  },
  {
   "cell_type": "code",
   "execution_count": 66,
   "metadata": {},
   "outputs": [
    {
     "name": "stdout",
     "output_type": "stream",
     "text": [
      "[123164.5275293637, 124308.27876623288, 124507.29749389298, 129386.11970919468]\n",
      "[124308.27876623288, 124507.29749389298, 129386.11970919468, 129386.11970919468]\n",
      "[124507.29749389298, 129386.11970919468, 129386.11970919468, 130048.22804259055]\n",
      "[129386.11970919468, 129386.11970919468, 130048.22804259055, 130455.98637070159]\n",
      "[129386.11970919468, 130048.22804259055, 130455.98637070159, 130455.98637070159]\n",
      "[130048.22804259055, 130455.98637070159, 130455.98637070159, 130455.98637070159]\n",
      "[130455.98637070159, 130455.98637070159, 130455.98637070159, 130455.98637070159]\n",
      "Saturation condition met, breaking the loop\n",
      "\n",
      "Best Strategy Metrics (Generation Generation 7):\n",
      "Profit: -243.95175170898438\n",
      "Total Trades: 111\n",
      "Winning Trades: 87\n",
      "Strictly Winning Trades: 81\n",
      "Win Rate: 0.7837837837837838\n",
      "Allocated Funds: 130455.98637070159\n",
      "Sharpe Ratio: 1.4919913977171293\n"
     ]
    }
   ],
   "source": [
    "run_ga_optimization(stock_data,generate_individual)"
   ]
  },
  {
   "cell_type": "code",
   "execution_count": 24,
   "metadata": {},
   "outputs": [
    {
     "data": {
      "text/plain": [
       "<AxesSubplot:>"
      ]
     },
     "execution_count": 24,
     "metadata": {},
     "output_type": "execute_result"
    },
    {
     "data": {
      "image/png": "[encoded data removed]",
      "text/plain": [
       "<Figure size 432x288 with 1 Axes>"
      ]
     },
     "metadata": {
      "needs_background": "light"
     },
     "output_type": "display_data"
    }
   ],
   "source": [
    "data[\"alpha\"] = alpha11(data,9, 8)\n",
    "data[\"alpha\"] = normalize_alphas(data[\"alpha\"])\n",
    "data.alpha.hist()"
   ]
  },
  {
   "cell_type": "code",
   "execution_count": null,
   "metadata": {},
   "outputs": [
    {
     "data": {
      "text/plain": [
       "<AxesSubplot:>"
      ]
     },
     "execution_count": 16,
     "metadata": {},
     "output_type": "execute_result"
    },
    {
     "data": {
      "image/png": "[encoded data removed]",
      "text/plain": [
       "<Figure size 432x288 with 1 Axes>"
      ]
     },
     "metadata": {
      "needs_background": "light"
     },
     "output_type": "display_data"
    }
   ],
   "source": [
    "signal.hist()"
   ]
  },
  {
   "cell_type": "code",
   "execution_count": 45,
   "metadata": {},
   "outputs": [
    {
     "data": {
      "text/plain": [
       "0    False\n",
       "1    False\n",
       "2    False\n",
       "dtype: bool"
      ]
     },
     "execution_count": 45,
     "metadata": {},
     "output_type": "execute_result"
    }
   ],
   "source": [
    "pd.Series([1,2,3])<0"
   ]
  },
  {
   "cell_type": "code",
   "execution_count": 21,
   "metadata": {},
   "outputs": [],
   "source": [
    "import yfinance as yf\n",
    "import talib\n",
    "import numpy as np\n",
    "import random\n",
    "import warnings\n",
    "warnings.filterwarnings('ignore', category=DeprecationWarning)  # Ignore DeprecationWarning\n",
    "warnings.filterwarnings('ignore', category=FutureWarning) \n",
    "\n",
    "# Function to fetch historical stock data using yfinance\n",
    "def fetch_stock_data(ticker, start_date, end_date):\n",
    "    try:\n",
    "        stock_data = yf.download(ticker, start=start_date, end=end_date)\n",
    "        return stock_data\n",
    "    except: \n",
    "        print(\"error in fetching data\")\n",
    "# Function to calculate MACD using TA-Lib\n",
    "def calculate_macd(data,fast_period,slow_period):\n",
    "    try:\n",
    "        if(fast_period > slow_period):\n",
    "            temp = fast_period\n",
    "            fast_period = slow_period\n",
    "            slow_period = temp\n",
    "        if(fast_period>1):\n",
    "            macd, signal, _ = talib.MACD(data['Close'], fastperiod=fast_period, slowperiod=slow_period, signalperiod=9)\n",
    "        else: \n",
    "            fast_period = 2 \n",
    "            macd, signal, _ = talib.MACD(data['Close'], fastperiod=fast_period, slowperiod=slow_period, signalperiod=9)\n",
    "            \n",
    "        return macd, signal\n",
    "    except: \n",
    "        print(f\"error in calculatin macd signal {fast_period,slow_period}\")"
   ]
  },
  {
   "cell_type": "code",
   "execution_count": 6,
   "metadata": {},
   "outputs": [],
   "source": [
    "data = stock_data"
   ]
  },
  {
   "cell_type": "code",
   "execution_count": 40,
   "metadata": {},
   "outputs": [],
   "source": [
    "adv20 = data['Volume'].rolling(window=3).mean()\n",
    "condition = adv20 < data['Volume']\n",
    "delta_Close_7 = data['Close'].diff(7)\n",
    "signal = np.where(\n",
    "    condition,\n",
    "    -1 * pd.Series(np.abs(delta_Close_7).rolling(window=4).apply(\n",
    "        lambda x: (x[-1] - np.min(x)) / (np.max(x) - np.min(x)), raw=True\n",
    "    )).rank() * np.sign(delta_Close_7),\n",
    "    -1)"
   ]
  },
  {
   "cell_type": "code",
   "execution_count": 43,
   "metadata": {},
   "outputs": [
    {
     "data": {
      "text/plain": [
       "<AxesSubplot:>"
      ]
     },
     "execution_count": 43,
     "metadata": {},
     "output_type": "execute_result"
    },
    {
     "data": {
      "image/png": "[encoded data removed]",
      "text/plain": [
       "<Figure size 432x288 with 1 Axes>"
      ]
     },
     "metadata": {
      "needs_background": "light"
     },
     "output_type": "display_data"
    }
   ],
   "source": [
    "pd.Series(signal).hist()"
   ]
  },
  {
   "cell_type": "code",
   "execution_count": null,
   "metadata": {},
   "outputs": [],
   "source": [
    "import random\n",
    "from inspect import signature\n",
    "\n",
    "def generate_individual(alpha_function):\n",
    "    # Get the parameters accepted by the alpha function\n",
    "    alpha_params = signature(alpha_function).parameters\n",
    "\n",
    "    # Define parameter ranges for alpha functions\n",
    "    parameter_ranges = {\n",
    "        'param1': (2, 20),\n",
    "        'param2': (3, 20),\n",
    "        'threshold': (0, 1),\n",
    "        'fast_period': (2, 10),\n",
    "        'stop_loss_percentage': (-1, 2),\n",
    "        'returns_lookback': (5, 30),\n",
    "        'power': (1, 5),\n",
    "        'argmax_window': (3, 10),\n",
    "        'delta_lookback': (2, 10),\n",
    "        'correlation_window': (5, 15),\n",
    "        # Add more parameters as needed for other alpha functions\n",
    "    }\n",
    "\n",
    "    # Generate individual with random parameters within specified ranges\n",
    "    individual = {param: random.uniform(param_range[0], param_range[1]) for param, param_range in parameter_ranges.items() if param in alpha_params}\n",
    "\n",
    "    return individual\n",
    "\n",
    "# Example usage\n",
    "generated_individual_alpha1 = generate_individual(alpha1)\n",
    "print(generated_individual_alpha1)\n",
    "\n",
    "generated_individual_alpha2 = generate_individual(alpha2)\n",
    "print(generated_individual_alpha2)\n"
   ]
  }
 ],
 "metadata": {
  "kernelspec": {
   "display_name": "Python 3",
   "language": "python",
   "name": "python3"
  },
  "language_info": {
   "codemirror_mode": {
    "name": "ipython",
    "version": 3
   },
   "file_extension": ".py",
   "mimetype": "text/x-python",
   "name": "python",
   "nbconvert_exporter": "python",
   "pygments_lexer": "ipython3",
   "version": "3.10.12"
  }
 },
 "nbformat": 4,
 "nbformat_minor": 2
}
