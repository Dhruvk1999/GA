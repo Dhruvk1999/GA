{
 "cells": [
  {
   "cell_type": "code",
   "execution_count": 1,
   "metadata": {},
   "outputs": [
    {
     "name": "stderr",
     "output_type": "stream",
     "text": [
      "/usr/lib/python3/dist-packages/scipy/__init__.py:146: UserWarning: A NumPy version >=1.17.3 and <1.25.0 is required for this version of SciPy (detected version 1.26.2\n",
      "  warnings.warn(f\"A NumPy version >={np_minversion} and <{np_maxversion}\"\n"
     ]
    }
   ],
   "source": [
    "from data.fetch_data import *\n",
    "from strategies.alphas import *\n",
    "from utils.ga_utils import *\n",
    "import warnings\n",
    "from utils.optimizer import *\n",
    "from utils.data_utils import * \n",
    "\n",
    "warnings.filterwarnings(\"ignore\")"
   ]
  },
  {
   "cell_type": "code",
   "execution_count": 6,
   "metadata": {},
   "outputs": [
    {
     "name": "stdout",
     "output_type": "stream",
     "text": [
      "[*********************100%%**********************]  1 of 1 completed\n"
     ]
    }
   ],
   "source": [
    "stock_data = fetch_stock_data(\"LT.NS\",'2022-08-01','2023-08-08')"
   ]
  },
  {
   "cell_type": "code",
   "execution_count": 7,
   "metadata": {},
   "outputs": [],
   "source": [
    "def evaluate_strategy(data,alpha_func,*args):\n",
    "    data[\"alpha\"] = alpha_func(data,*args[:-2])\n",
    "    data[\"alpha\"] = normalize_alphas(data[\"alpha\"])\n",
    "    threshold = args[-2]\n",
    "    stop_loss_percentage =args[-1]\n",
    "    \n",
    "    data = data.dropna()\n",
    "\n",
    "    position = 0  # 0 for no position, 1 for long position\n",
    "    profit = 0\n",
    "    total_trades = 0\n",
    "    winning_trades = 0\n",
    "    stricly_winning_trades = 0\n",
    "    allocated_funds = 100000\n",
    "    no_of_shares = 0\n",
    "    stop_loss_price = 0\n",
    "    returns = []\n",
    "\n",
    "    for i in range(1,len(data)):\n",
    "        try:\n",
    "\n",
    "            if position == 0:\n",
    "                if data['alpha'][i] > threshold: \n",
    "                \n",
    "                    position = 1  # Buy (enter long position)\n",
    "                    entry_price = data['Close'][i]\n",
    "                    stop_loss_price = entry_price - (entry_price * 0.01 * stop_loss_percentage)\n",
    "                    # print(f\"Entry: {entry_price} on {data.index[i]} Stop Loss: {stop_loss_price}\")\n",
    "                    total_trades += 1\n",
    "                    no_of_shares = allocated_funds//entry_price\n",
    "                    \n",
    "\n",
    "                    \n",
    "            elif position == 1 :\n",
    "                \n",
    "                if data['Close'][i] > entry_price:  # Adjust stop loss only when the price goes up\n",
    "                    stop_loss_price = max(stop_loss_price, data['Close'][i] - (data['Close'][i] * 0.01 * stop_loss_percentage))\n",
    "                    \n",
    "                if data['Low'][i] < stop_loss_price:\n",
    "                    position = 0  # Sell due to stop loss\n",
    "                    exit_price = data['Open'][i] if stop_loss_price > data['Open'][i] else stop_loss_price\n",
    "                    trade_profit = (exit_price - entry_price) * no_of_shares  # Calculate profit/loss\n",
    "                    profit=trade_profit\n",
    "                    allocated_funds += profit\n",
    "                    no_of_shares =0\n",
    "                    return_on_trade = (exit_price -entry_price) * 100/entry_price\n",
    "                    returns.append(return_on_trade)\n",
    "                    # print(f\"Exit: {exit_price} on {data.index[i]} exited on stop loss Allocated Funds {allocated_funds}\")\n",
    "                    # print(f\"Profit: {profit}\")\n",
    "                    \n",
    "                    # mask = (results_data['Symbol'] == symbol) & (results_data['Exit_Date'].isnull())\n",
    "                    # results_data.loc[mask, 'Exit_Date'] = data.index[i]\n",
    "                    # results_data.loc[mask, 'Exit_Price'] = exit_price\n",
    "           \n",
    "                    if(exit_price>= entry_price):\n",
    "                        winning_trades += 1\n",
    "                    if(exit_price> entry_price):\n",
    "                        stricly_winning_trades += 1\n",
    "                # elif data['MACD_E'][i] < data['Signal_E'][i]:\n",
    "                #     position = 0  # Sell due to exit condition\n",
    "                #     exit_price = data['Close'][i]\n",
    "                #     trade_profit = (exit_price - entry_price) * no_of_shares  # Calculate profit/loss\n",
    "                #     profit=trade_profit#                     \n",
    "                #     # print(f\"Exit: {exit_price} on {data.index[i]} exited on stop loss Allocated Funds {allocated_funds}\")\n",
    "                #     # print(f\"Profit: {profit}\")\n",
    "\n",
    "                #     allocated_funds += profit\n",
    "                    \n",
    "                    \n",
    "                #     # mask = (results_data['Symbol'] == symbol) & (results_data['Exit_Date'].isnull())\n",
    "                #     # results_data.loc[mask, 'Exit_Date'] = data.index[i]\n",
    "                #     # results_data.loc[mask, 'Exit_Price'] = exit_price\n",
    "\n",
    "                #     no_of_shares =0\n",
    "                #     if(exit_price>= entry_price):\n",
    "                #         winning_trades += 1\n",
    "                #     if(exit_price> entry_price):\n",
    "                #         stricly_winning_trades += 1\n",
    "            \n",
    "        except Exception as ex:\n",
    "            print(\"Something caused the error\",ex)\n",
    "            break\n",
    "        win_rate = winning_trades/total_trades if total_trades != 0 else 0\n",
    "\n",
    "            # Calculate metrics\n",
    "        metrics = {\n",
    "            \"Profit\": profit,\n",
    "            \"Total Trades\": total_trades,\n",
    "            \"Winning Trades\": winning_trades,\n",
    "            \"Strictly Winning Trades\": stricly_winning_trades,\n",
    "            \"Win Rate\": win_rate,\n",
    "            \"Allocated Funds\": allocated_funds,\n",
    "            \"Sharpe Ratio\": calculate_sortino_ratio(pd.Series(returns))\n",
    "        }\n",
    "\n",
    "    return metrics\n",
    "    \n"
   ]
  },
  {
   "cell_type": "code",
   "execution_count": null,
   "metadata": {},
   "outputs": [],
   "source": []
  },
  {
   "cell_type": "code",
   "execution_count": 7,
   "metadata": {},
   "outputs": [],
   "source": []
  },
  {
   "cell_type": "code",
   "execution_count": 9,
   "metadata": {},
   "outputs": [
    {
     "name": "stdout",
     "output_type": "stream",
     "text": [
      "[123643.34958390739, 125190.10158425228, 125269.1557543653]\n",
      "[125190.10158425228, 125269.1557543653, 125277.52987258224]\n",
      "[125269.1557543653, 125277.52987258224, 125277.52987258224]\n",
      "[125277.52987258224, 125277.52987258224, 125277.52987258224]\n",
      "Saturation condition met, breaking the loop\n",
      "\n",
      "Best Strategy Metrics (Generation Generation 4):\n",
      "\n",
      "Best Individual Parameters: [9, 9, 0, -0.9666318953795755]\n",
      "Profit: 51.70458984375\n",
      "Total Trades: 116\n",
      "Winning Trades: 89\n",
      "Strictly Winning Trades: 85\n",
      "Win Rate: 0.7672413793103449\n",
      "Allocated Funds: 125277.52987258224\n",
      "Sharpe Ratio: 0.9148177124895163\n"
     ]
    }
   ],
   "source": [
    "run_ga_optimization(stock_data,generate_individual,alpha8,evaluate_strategy)"
   ]
  },
  {
   "cell_type": "code",
   "execution_count": 14,
   "metadata": {},
   "outputs": [
    {
     "ename": "KeyboardInterrupt",
     "evalue": "",
     "output_type": "error",
     "traceback": [
      "\u001b[0;31m---------------------------------------------------------------------------\u001b[0m",
      "\u001b[0;31mKeyboardInterrupt\u001b[0m                         Traceback (most recent call last)",
      "\u001b[0;32m/tmp/ipykernel_16999/3845796134.py\u001b[0m in \u001b[0;36m<module>\u001b[0;34m\u001b[0m\n\u001b[1;32m     11\u001b[0m         \u001b[0malpha_functions\u001b[0m\u001b[0;34m[\u001b[0m\u001b[0malpha_name\u001b[0m\u001b[0;34m]\u001b[0m \u001b[0;34m=\u001b[0m \u001b[0malpha_function\u001b[0m\u001b[0;34m\u001b[0m\u001b[0;34m\u001b[0m\u001b[0m\n\u001b[1;32m     12\u001b[0m \u001b[0;34m\u001b[0m\u001b[0m\n\u001b[0;32m---> 13\u001b[0;31m         \u001b[0mbest_metrics\u001b[0m\u001b[0;34m,\u001b[0m \u001b[0mbest_individual\u001b[0m \u001b[0;34m=\u001b[0m \u001b[0mrun_ga_optimization\u001b[0m\u001b[0;34m(\u001b[0m\u001b[0mstock_data\u001b[0m\u001b[0;34m,\u001b[0m \u001b[0mgenerate_individual\u001b[0m\u001b[0;34m,\u001b[0m \u001b[0malpha_function\u001b[0m\u001b[0;34m,\u001b[0m \u001b[0mevaluate_strategy\u001b[0m\u001b[0;34m)\u001b[0m\u001b[0;34m\u001b[0m\u001b[0;34m\u001b[0m\u001b[0m\n\u001b[0m\u001b[1;32m     14\u001b[0m \u001b[0;34m\u001b[0m\u001b[0m\n\u001b[1;32m     15\u001b[0m         results_dict[\"BPCL.NS\"] = {\n",
      "\u001b[0;32m~/GA/utils/optimizer.py\u001b[0m in \u001b[0;36mrun_ga_optimization\u001b[0;34m(stock_data, generate_individual, alpha_func, evaluate_strategy)\u001b[0m\n\u001b[1;32m     23\u001b[0m \u001b[0;34m\u001b[0m\u001b[0m\n\u001b[1;32m     24\u001b[0m     \u001b[0;32mfor\u001b[0m \u001b[0mgeneration\u001b[0m \u001b[0;32min\u001b[0m \u001b[0mrange\u001b[0m\u001b[0;34m(\u001b[0m\u001b[0mnum_generations\u001b[0m\u001b[0;34m)\u001b[0m\u001b[0;34m:\u001b[0m\u001b[0;34m\u001b[0m\u001b[0;34m\u001b[0m\u001b[0m\n\u001b[0;32m---> 25\u001b[0;31m         \u001b[0mfitness_scores\u001b[0m \u001b[0;34m=\u001b[0m \u001b[0;34m[\u001b[0m\u001b[0mevaluate_strategy\u001b[0m\u001b[0;34m(\u001b[0m\u001b[0mstock_data\u001b[0m\u001b[0;34m.\u001b[0m\u001b[0mcopy\u001b[0m\u001b[0;34m(\u001b[0m\u001b[0;34m)\u001b[0m\u001b[0;34m,\u001b[0m \u001b[0malpha_func\u001b[0m\u001b[0;34m,\u001b[0m\u001b[0;34m*\u001b[0m\u001b[0mindividual\u001b[0m\u001b[0;34m)\u001b[0m\u001b[0;34m[\u001b[0m\u001b[0;34m\"Allocated Funds\"\u001b[0m\u001b[0;34m]\u001b[0m \u001b[0;32mfor\u001b[0m \u001b[0mindividual\u001b[0m \u001b[0;32min\u001b[0m \u001b[0mpopulation\u001b[0m\u001b[0;34m]\u001b[0m\u001b[0;34m\u001b[0m\u001b[0;34m\u001b[0m\u001b[0m\n\u001b[0m\u001b[1;32m     26\u001b[0m         \u001b[0msorted_population\u001b[0m \u001b[0;34m=\u001b[0m \u001b[0;34m[\u001b[0m\u001b[0mx\u001b[0m \u001b[0;32mfor\u001b[0m \u001b[0m_\u001b[0m\u001b[0;34m,\u001b[0m \u001b[0mx\u001b[0m \u001b[0;32min\u001b[0m \u001b[0msorted\u001b[0m\u001b[0;34m(\u001b[0m\u001b[0mzip\u001b[0m\u001b[0;34m(\u001b[0m\u001b[0mfitness_scores\u001b[0m\u001b[0;34m,\u001b[0m \u001b[0mpopulation\u001b[0m\u001b[0;34m)\u001b[0m\u001b[0;34m,\u001b[0m \u001b[0mkey\u001b[0m\u001b[0;34m=\u001b[0m\u001b[0;32mlambda\u001b[0m \u001b[0mpair\u001b[0m\u001b[0;34m:\u001b[0m \u001b[0mpair\u001b[0m\u001b[0;34m[\u001b[0m\u001b[0;36m0\u001b[0m\u001b[0;34m]\u001b[0m\u001b[0;34m,\u001b[0m \u001b[0mreverse\u001b[0m\u001b[0;34m=\u001b[0m\u001b[0;32mTrue\u001b[0m\u001b[0;34m)\u001b[0m\u001b[0;34m]\u001b[0m\u001b[0;34m\u001b[0m\u001b[0;34m\u001b[0m\u001b[0m\n\u001b[1;32m     27\u001b[0m \u001b[0;34m\u001b[0m\u001b[0m\n",
      "\u001b[0;32m~/GA/utils/optimizer.py\u001b[0m in \u001b[0;36m<listcomp>\u001b[0;34m(.0)\u001b[0m\n\u001b[1;32m     23\u001b[0m \u001b[0;34m\u001b[0m\u001b[0m\n\u001b[1;32m     24\u001b[0m     \u001b[0;32mfor\u001b[0m \u001b[0mgeneration\u001b[0m \u001b[0;32min\u001b[0m \u001b[0mrange\u001b[0m\u001b[0;34m(\u001b[0m\u001b[0mnum_generations\u001b[0m\u001b[0;34m)\u001b[0m\u001b[0;34m:\u001b[0m\u001b[0;34m\u001b[0m\u001b[0;34m\u001b[0m\u001b[0m\n\u001b[0;32m---> 25\u001b[0;31m         \u001b[0mfitness_scores\u001b[0m \u001b[0;34m=\u001b[0m \u001b[0;34m[\u001b[0m\u001b[0mevaluate_strategy\u001b[0m\u001b[0;34m(\u001b[0m\u001b[0mstock_data\u001b[0m\u001b[0;34m.\u001b[0m\u001b[0mcopy\u001b[0m\u001b[0;34m(\u001b[0m\u001b[0;34m)\u001b[0m\u001b[0;34m,\u001b[0m \u001b[0malpha_func\u001b[0m\u001b[0;34m,\u001b[0m\u001b[0;34m*\u001b[0m\u001b[0mindividual\u001b[0m\u001b[0;34m)\u001b[0m\u001b[0;34m[\u001b[0m\u001b[0;34m\"Allocated Funds\"\u001b[0m\u001b[0;34m]\u001b[0m \u001b[0;32mfor\u001b[0m \u001b[0mindividual\u001b[0m \u001b[0;32min\u001b[0m \u001b[0mpopulation\u001b[0m\u001b[0;34m]\u001b[0m\u001b[0;34m\u001b[0m\u001b[0;34m\u001b[0m\u001b[0m\n\u001b[0m\u001b[1;32m     26\u001b[0m         \u001b[0msorted_population\u001b[0m \u001b[0;34m=\u001b[0m \u001b[0;34m[\u001b[0m\u001b[0mx\u001b[0m \u001b[0;32mfor\u001b[0m \u001b[0m_\u001b[0m\u001b[0;34m,\u001b[0m \u001b[0mx\u001b[0m \u001b[0;32min\u001b[0m \u001b[0msorted\u001b[0m\u001b[0;34m(\u001b[0m\u001b[0mzip\u001b[0m\u001b[0;34m(\u001b[0m\u001b[0mfitness_scores\u001b[0m\u001b[0;34m,\u001b[0m \u001b[0mpopulation\u001b[0m\u001b[0;34m)\u001b[0m\u001b[0;34m,\u001b[0m \u001b[0mkey\u001b[0m\u001b[0;34m=\u001b[0m\u001b[0;32mlambda\u001b[0m \u001b[0mpair\u001b[0m\u001b[0;34m:\u001b[0m \u001b[0mpair\u001b[0m\u001b[0;34m[\u001b[0m\u001b[0;36m0\u001b[0m\u001b[0;34m]\u001b[0m\u001b[0;34m,\u001b[0m \u001b[0mreverse\u001b[0m\u001b[0;34m=\u001b[0m\u001b[0;32mTrue\u001b[0m\u001b[0;34m)\u001b[0m\u001b[0;34m]\u001b[0m\u001b[0;34m\u001b[0m\u001b[0;34m\u001b[0m\u001b[0m\n\u001b[1;32m     27\u001b[0m \u001b[0;34m\u001b[0m\u001b[0m\n",
      "\u001b[0;32m/tmp/ipykernel_16999/3234217421.py\u001b[0m in \u001b[0;36mevaluate_strategy\u001b[0;34m(data, alpha_func, *args)\u001b[0m\n\u001b[1;32m     21\u001b[0m \u001b[0;34m\u001b[0m\u001b[0m\n\u001b[1;32m     22\u001b[0m             \u001b[0;32mif\u001b[0m \u001b[0mposition\u001b[0m \u001b[0;34m==\u001b[0m \u001b[0;36m0\u001b[0m\u001b[0;34m:\u001b[0m\u001b[0;34m\u001b[0m\u001b[0;34m\u001b[0m\u001b[0m\n\u001b[0;32m---> 23\u001b[0;31m                 \u001b[0;32mif\u001b[0m \u001b[0mdata\u001b[0m\u001b[0;34m[\u001b[0m\u001b[0;34m'alpha'\u001b[0m\u001b[0;34m]\u001b[0m\u001b[0;34m[\u001b[0m\u001b[0mi\u001b[0m\u001b[0;34m]\u001b[0m \u001b[0;34m>\u001b[0m \u001b[0mthreshold\u001b[0m\u001b[0;34m:\u001b[0m\u001b[0;34m\u001b[0m\u001b[0;34m\u001b[0m\u001b[0m\n\u001b[0m\u001b[1;32m     24\u001b[0m \u001b[0;34m\u001b[0m\u001b[0m\n\u001b[1;32m     25\u001b[0m                     \u001b[0mposition\u001b[0m \u001b[0;34m=\u001b[0m \u001b[0;36m1\u001b[0m  \u001b[0;31m# Buy (enter long position)\u001b[0m\u001b[0;34m\u001b[0m\u001b[0;34m\u001b[0m\u001b[0m\n",
      "\u001b[0;32m~/.local/lib/python3.10/site-packages/pandas/core/frame.py\u001b[0m in \u001b[0;36m__getitem__\u001b[0;34m(self, key)\u001b[0m\n\u001b[1;32m   3864\u001b[0m             if not is_mi and (\n\u001b[1;32m   3865\u001b[0m                 \u001b[0mself\u001b[0m\u001b[0;34m.\u001b[0m\u001b[0mcolumns\u001b[0m\u001b[0;34m.\u001b[0m\u001b[0mis_unique\u001b[0m\u001b[0;34m\u001b[0m\u001b[0;34m\u001b[0m\u001b[0m\n\u001b[0;32m-> 3866\u001b[0;31m                 \u001b[0;32mand\u001b[0m \u001b[0mkey\u001b[0m \u001b[0;32min\u001b[0m \u001b[0mself\u001b[0m\u001b[0;34m.\u001b[0m\u001b[0mcolumns\u001b[0m\u001b[0;34m\u001b[0m\u001b[0;34m\u001b[0m\u001b[0m\n\u001b[0m\u001b[1;32m   3867\u001b[0m                 \u001b[0;32mor\u001b[0m \u001b[0mkey\u001b[0m \u001b[0;32min\u001b[0m \u001b[0mself\u001b[0m\u001b[0;34m.\u001b[0m\u001b[0mcolumns\u001b[0m\u001b[0;34m.\u001b[0m\u001b[0mdrop_duplicates\u001b[0m\u001b[0;34m(\u001b[0m\u001b[0mkeep\u001b[0m\u001b[0;34m=\u001b[0m\u001b[0;32mFalse\u001b[0m\u001b[0;34m)\u001b[0m\u001b[0;34m\u001b[0m\u001b[0;34m\u001b[0m\u001b[0m\n\u001b[1;32m   3868\u001b[0m             ):\n",
      "\u001b[0;31mKeyboardInterrupt\u001b[0m: "
     ]
    }
   ],
   "source": [
    "import importlib\n",
    "tickers = []\n",
    "alpha_function_names = [\"alpha\"+str(x) for x in range(1,2)]\n",
    "alpha_functions = {}\n",
    "\n",
    "for alpha_name in alpha_function_names:\n",
    "    try:\n",
    "        module = importlib.import_module(\"strategies.alphas\")\n",
    "        alpha_function = getattr(module, alpha_name)\n",
    "        alpha_functions[alpha_name] = alpha_function\n",
    "\n",
    "        best_metrics, best_individual = run_ga_optimization(stock_data, generate_individual, alpha_function, evaluate_strategy)\n",
    "\n",
    "        results_dict[\"BPCL.NS\"] = {\n",
    "        \"alpha_name\": alpha_func.__name__,\n",
    "        \"best_metrics\": best_metrics,\n",
    "        \"best_individual\": best_individual\n",
    "    }\n",
    "        \n",
    "    except AttributeError:\n",
    "        print(f\"Failed to import {alpha_name}\")\n",
    "\n",
    "\n",
    "\n"
   ]
  },
  {
   "cell_type": "code",
   "execution_count": 5,
   "metadata": {},
   "outputs": [
    {
     "name": "stdout",
     "output_type": "stream",
     "text": [
      "[*********************100%%**********************]  1 of 1 completed\n"
     ]
    }
   ],
   "source": [
    "data= yf.download(\"LT.NS\", start = '2023-08-01',end='2024-02-01')"
   ]
  },
  {
   "cell_type": "code",
   "execution_count": 14,
   "metadata": {},
   "outputs": [
    {
     "data": {
      "text/plain": [
       "{'Profit': 477.75299072265625,\n",
       " 'Total Trades': 51,\n",
       " 'Winning Trades': 39,\n",
       " 'Strictly Winning Trades': 36,\n",
       " 'Win Rate': 0.7647058823529411,\n",
       " 'Allocated Funds': 107857.98748779297,\n",
       " 'Sharpe Ratio': 0.8349406596569037}"
      ]
     },
     "execution_count": 14,
     "metadata": {},
     "output_type": "execute_result"
    }
   ],
   "source": [
    "evaluate_strategy(data,alpha11,17, 5, 0, -0.9838885246829239)"
   ]
  },
  {
   "cell_type": "code",
   "execution_count": null,
   "metadata": {},
   "outputs": [
    {
     "data": {
      "text/plain": [
       "<AxesSubplot:>"
      ]
     },
     "execution_count": 16,
     "metadata": {},
     "output_type": "execute_result"
    },
    {
     "data": {
      "image/png": "[encoded data removed]",
      "text/plain": [
       "<Figure size 432x288 with 1 Axes>"
      ]
     },
     "metadata": {
      "needs_background": "light"
     },
     "output_type": "display_data"
    }
   ],
   "source": [
    "signal.hist()"
   ]
  },
  {
   "cell_type": "code",
   "execution_count": 45,
   "metadata": {},
   "outputs": [
    {
     "data": {
      "text/plain": [
       "0    False\n",
       "1    False\n",
       "2    False\n",
       "dtype: bool"
      ]
     },
     "execution_count": 45,
     "metadata": {},
     "output_type": "execute_result"
    }
   ],
   "source": [
    "pd.Series([1,2,3])<0"
   ]
  },
  {
   "cell_type": "code",
   "execution_count": 21,
   "metadata": {},
   "outputs": [],
   "source": []
  },
  {
   "cell_type": "code",
   "execution_count": 9,
   "metadata": {},
   "outputs": [],
   "source": [
    "data = stock_data"
   ]
  },
  {
   "cell_type": "code",
   "execution_count": null,
   "metadata": {},
   "outputs": [],
   "source": []
  },
  {
   "cell_type": "code",
   "execution_count": 43,
   "metadata": {},
   "outputs": [
    {
     "data": {
      "text/plain": [
       "<AxesSubplot:>"
      ]
     },
     "execution_count": 43,
     "metadata": {},
     "output_type": "execute_result"
    },
    {
     "data": {
      "image/png": "[encoded data removed]",
      "text/plain": [
       "<Figure size 432x288 with 1 Axes>"
      ]
     },
     "metadata": {
      "needs_background": "light"
     },
     "output_type": "display_data"
    }
   ],
   "source": [
    "pd.Series(signal).hist()"
   ]
  },
  {
   "cell_type": "code",
   "execution_count": null,
   "metadata": {},
   "outputs": [],
   "source": []
  },
  {
   "cell_type": "code",
   "execution_count": null,
   "metadata": {},
   "outputs": [],
   "source": []
  },
  {
   "cell_type": "code",
   "execution_count": 33,
   "metadata": {},
   "outputs": [],
   "source": [
    "a =generate_individual(alpha14)"
   ]
  },
  {
   "cell_type": "code",
   "execution_count": 34,
   "metadata": {},
   "outputs": [
    {
     "data": {
      "text/plain": [
       "[4, 9, 0, 1]"
      ]
     },
     "execution_count": 34,
     "metadata": {},
     "output_type": "execute_result"
    }
   ],
   "source": [
    "list(a.values())"
   ]
  },
  {
   "cell_type": "code",
   "execution_count": 41,
   "metadata": {},
   "outputs": [],
   "source": [
    "def example_function(param1, *args, param2=\"default\", **kwargs):\n",
    "    print(\"param1:\", param1)\n",
    "    print(\"param2:\", param2)\n",
    "    print(\"Additional positional arguments:\", *args[:-2])\n",
    "    print(\"Additional keyword arguments:\", kwargs)"
   ]
  },
  {
   "cell_type": "code",
   "execution_count": 42,
   "metadata": {},
   "outputs": [
    {
     "name": "stdout",
     "output_type": "stream",
     "text": [
      "param1: 1\n",
      "param2: default\n",
      "Additional positional arguments: 2 3 4 5 5\n",
      "Additional keyword arguments: {}\n"
     ]
    }
   ],
   "source": [
    "example_function(1,2,3,4,5,5,6,7)"
   ]
  },
  {
   "cell_type": "code",
   "execution_count": null,
   "metadata": {},
   "outputs": [],
   "source": []
  }
 ],
 "metadata": {
  "kernelspec": {
   "display_name": "Python 3",
   "language": "python",
   "name": "python3"
  },
  "language_info": {
   "codemirror_mode": {
    "name": "ipython",
    "version": 3
   },
   "file_extension": ".py",
   "mimetype": "text/x-python",
   "name": "python",
   "nbconvert_exporter": "python",
   "pygments_lexer": "ipython3",
   "version": "3.10.12"
  }
 },
 "nbformat": 4,
 "nbformat_minor": 2
}
