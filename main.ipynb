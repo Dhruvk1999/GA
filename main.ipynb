{
 "cells": [
  {
   "cell_type": "code",
   "execution_count": 6,
   "metadata": {},
   "outputs": [],
   "source": [
    "from data.fetch_data import *\n",
    "from strategies.alphas import *\n",
    "from utils.ga_utils import *\n",
    "import warnings\n",
    "from utils.optimizer import *\n",
    "from utils.data_utils import * \n",
    "\n",
    "warnings.filterwarnings(\"ignore\")"
   ]
  },
  {
   "cell_type": "code",
   "execution_count": 7,
   "metadata": {},
   "outputs": [
    {
     "name": "stdout",
     "output_type": "stream",
     "text": [
      "[*********************100%%**********************]  1 of 1 completed\n",
      "[*********************100%%**********************]  1 of 1 completed\n"
     ]
    }
   ],
   "source": [
    "train_data = fetch_stock_data(\"GLENMARK.NS\",'2022-08-01','2023-08-08')\n",
    "test_data= yf.download(\"LT.NS\", start = '2023-08-01',end='2024-02-01')"
   ]
  },
  {
   "cell_type": "code",
   "execution_count": 9,
   "metadata": {},
   "outputs": [],
   "source": [
    "def evaluate_strategy(data,alpha_func,*args):\n",
    "    data[\"alpha\"] = alpha_func(data,*args[:-3])\n",
    "    data[\"alpha\"] = normalize_alphas(data[\"alpha\"])\n",
    "    threshold = args[-2]\n",
    "    # threshold_exit =args[-2]\n",
    "    stop_loss_percentage =args[-1]\n",
    "    \n",
    "    data = data.dropna()\n",
    "\n",
    "    position = 0  # 0 for no position, 1 for long position\n",
    "    profit = 0\n",
    "    total_trades = 0\n",
    "    winning_trades = 0\n",
    "    stricly_winning_trades = 0\n",
    "    allocated_funds = 100000\n",
    "    no_of_shares = 0\n",
    "    stop_loss_price = 0\n",
    "    returns = []\n",
    "\n",
    "    for i in range(1,len(data)):\n",
    "        try:\n",
    "\n",
    "            if position == 0:\n",
    "                if data['alpha'][i] > threshold: \n",
    "                \n",
    "                    position = 1  # Buy (enter long position)\n",
    "                    entry_price = data['Close'][i]\n",
    "                    stop_loss_price = entry_price - (entry_price * 0.01 * stop_loss_percentage)\n",
    "                    # print(f\"Entry: {entry_price} on {data.index[i]} Stop Loss: {stop_loss_price}\")\n",
    "                    total_trades += 1\n",
    "                    no_of_shares = allocated_funds//entry_price\n",
    "                    \n",
    "\n",
    "                    \n",
    "            elif position == 1 :\n",
    "                \n",
    "                \n",
    "                if data['Close'][i] > entry_price:  # Adjust stop loss only when the price goes up\n",
    "                    stop_loss_price = max(stop_loss_price, data['Close'][i] - (data['Close'][i] * 0.01 * stop_loss_percentage))\n",
    "                    \n",
    "                if data['Low'][i] < stop_loss_price :#:or data['alpha'][i] < threshold_exit:  # add condition for time based exit here\n",
    "                    position = 0  # Sell due to stop loss\n",
    "                    exit_price = data['Open'][i] if stop_loss_price > data['Open'][i] else stop_loss_price\n",
    "                    no_of_shares = allocated_funds//entry_price\n",
    "                    trade_profit = (exit_price - entry_price) * no_of_shares  # Calculate profit/loss\n",
    "                    profit=trade_profit\n",
    "                    allocated_funds += profit\n",
    "                    return_on_trade = (exit_price -entry_price) * 100/entry_price\n",
    "                    returns.append(return_on_trade)\n",
    "                    # print(f\"Exit: {exit_price} on {data.index[i]} exited on stop loss Allocated Funds {allocated_funds}\")\n",
    "                    # print(f\"Profit: {profit}\")\n",
    "                    \n",
    "                    # mask = (results_data['Symbol'] == symbol) & (results_data['Exit_Date'].isnull())\n",
    "                    # results_data.loc[mask, 'Exit_Date'] = data.index[i]\n",
    "                    # results_data.loc[mask, 'Exit_Price'] = exit_price\n",
    "           \n",
    "                    if(exit_price>= entry_price):\n",
    "                        winning_trades += 1\n",
    "                    if(exit_price> entry_price):\n",
    "                        stricly_winning_trades += 1\n",
    "                # elif data['MACD_E'][i] < data['Signal_E'][i]:\n",
    "                #     position = 0  # Sell due to exit condition\n",
    "                #     exit_price = data['Close'][i]\n",
    "                #     trade_profit = (exit_price - entry_price) * no_of_shares  # Calculate profit/loss\n",
    "                #     profit=trade_profit#                     \n",
    "                #     # print(f\"Exit: {exit_price} on {data.index[i]} exited on stop loss Allocated Funds {allocated_funds}\")\n",
    "                #     # print(f\"Profit: {profit}\")\n",
    "\n",
    "                #     allocated_funds += profit\n",
    "                    \n",
    "                    \n",
    "                #     # mask = (results_data['Symbol'] == symbol) & (results_data['Exit_Date'].isnull())\n",
    "                #     # results_data.loc[mask, 'Exit_Date'] = data.index[i]\n",
    "                #     # results_data.loc[mask, 'Exit_Price'] = exit_price\n",
    "\n",
    "                #     no_of_shares =0\n",
    "                #     if(exit_price>= entry_price):\n",
    "                #         winning_trades += 1\n",
    "                #     if(exit_price> entry_price):\n",
    "                #         stricly_winning_trades += 1\n",
    "            \n",
    "        except Exception as ex:\n",
    "            print(\"Something caused the error\",ex)\n",
    "            break\n",
    "        win_rate = winning_trades/total_trades if total_trades != 0 else 0\n",
    "\n",
    "            # Calculate metrics\n",
    "        metrics = {\n",
    "            \"Profit\": profit,\n",
    "            \"Total Trades\": total_trades,\n",
    "            \"Winning Trades\": winning_trades,\n",
    "            \"Strictly Winning Trades\": stricly_winning_trades,\n",
    "            \"Win Rate\": win_rate,\n",
    "            \"Allocated Funds\": allocated_funds,\n",
    "            \"Sharpe Ratio\": calculate_sortino_ratio(pd.Series(returns))\n",
    "        }\n",
    "\n",
    "    return metrics\n",
    "    \n"
   ]
  },
  {
   "cell_type": "code",
   "execution_count": 10,
   "metadata": {},
   "outputs": [],
   "source": [
    "met = evaluate_strategy(test_data,alpha11,18, 6, 0.56,0.02)"
   ]
  },
  {
   "cell_type": "code",
   "execution_count": 11,
   "metadata": {},
   "outputs": [
    {
     "data": {
      "text/plain": [
       "{'Profit': 98.87668027343534,\n",
       " 'Total Trades': 15,\n",
       " 'Winning Trades': 8,\n",
       " 'Strictly Winning Trades': 8,\n",
       " 'Win Rate': 0.5333333333333333,\n",
       " 'Allocated Funds': 102129.12640322265,\n",
       " 'Sharpe Ratio': 1.105014863445047}"
      ]
     },
     "execution_count": 11,
     "metadata": {},
     "output_type": "execute_result"
    }
   ],
   "source": [
    "met"
   ]
  },
  {
   "cell_type": "code",
   "execution_count": 16,
   "metadata": {},
   "outputs": [
    {
     "data": {
      "text/plain": [
       "{'Profit': -1081.2037353515625,\n",
       " 'Total Trades': 7,\n",
       " 'Winning Trades': 0,\n",
       " 'Strictly Winning Trades': 0,\n",
       " 'Win Rate': 0.0,\n",
       " 'Allocated Funds': 89341.05583102416,\n",
       " 'Sharpe Ratio': -2.312748007678074}"
      ]
     },
     "execution_count": 16,
     "metadata": {},
     "output_type": "execute_result"
    }
   ],
   "source": [
    "baseLinemet =met\n",
    "baseLinemet"
   ]
  },
  {
   "cell_type": "code",
   "execution_count": 17,
   "metadata": {},
   "outputs": [],
   "source": [
    "# run_ga_optimization(stock_data,generate_individual,alpha8,evaluate_strategy)"
   ]
  },
  {
   "cell_type": "code",
   "execution_count": 18,
   "metadata": {},
   "outputs": [
    {
     "name": "stdout",
     "output_type": "stream",
     "text": [
      "for alpha11\n",
      "\n",
      "[103445.32908026448, 106026.84394709593, 108291.64695252042]\n",
      "[106026.84394709593, 108291.64695252042, 108528.81852193321]\n",
      "[108291.64695252042, 108528.81852193321, 108528.81852193321]\n",
      "[108528.81852193321, 108528.81852193321, 108528.81852193321]\n",
      "Saturation condition met, breaking the loop\n",
      "\n",
      "Best Strategy Metrics (Generation Generation 6):\n",
      "\n",
      "Best Individual Parameters: [18, 6, 0.530790910082467, 0.0026616788699462823]\n",
      "Profit: 44.75178843656431\n",
      "Total Trades: 31\n",
      "Winning Trades: 19\n",
      "Strictly Winning Trades: 16\n",
      "Win Rate: 0.6129032258064516\n",
      "Allocated Funds: 107571.14598383494\n",
      "Sharpe Ratio: 1.257361768563365\n"
     ]
    }
   ],
   "source": [
    "import importlib\n",
    "tickers = []\n",
    "alpha_function_names = [\"alpha\"+str(x) for x in range(13,18)]\n",
    "alpha_functions = {}\n",
    "results_dict ={}\n",
    "\n",
    "for alpha_name in alpha_function_names:\n",
    "    try:\n",
    "        print(f\"for {alpha_name}\\n\")\n",
    "        module = importlib.import_module(\"strategies.alphas\")\n",
    "        alpha_function = getattr(module, alpha_name)\n",
    "        alpha_functions[alpha_name] = alpha_function\n",
    "\n",
    "        best_metrics, best_individual = run_ga_optimization(train_data, generate_individual, alpha_function, evaluate_strategy)\n",
    "\n",
    "        results_dict[alpha_function.__name__] = {\n",
    "        # \"alpha_name\": alpha_function.__name__,\n",
    "        \"best_metrics\": best_metrics,\n",
    "        \"best_individual\": best_individual,\n",
    "        \"ticker\": \"BPCL.NS\"\n",
    "    }\n",
    "        \n",
    "    except AttributeError:\n",
    "        print(f\"Failed to import {alpha_name}\")\n",
    "\n",
    "\n",
    "\n"
   ]
  },
  {
   "cell_type": "code",
   "execution_count": 6,
   "metadata": {},
   "outputs": [
    {
     "name": "stdout",
     "output_type": "stream",
     "text": [
      "[*********************100%%**********************]  1 of 1 completed"
     ]
    },
    {
     "name": "stderr",
     "output_type": "stream",
     "text": [
      "\n",
      "1 Failed download:\n",
      "['LT.NS']: Exception('%ticker%: No price data found, symbol may be delisted (1d 2023-08-01 -> 2024-02-01)')\n"
     ]
    },
    {
     "name": "stdout",
     "output_type": "stream",
     "text": [
      "\n"
     ]
    }
   ],
   "source": []
  },
  {
   "cell_type": "code",
   "execution_count": 11,
   "metadata": {},
   "outputs": [],
   "source": [
    "pd.DataFrame(results_dict).to_csv(\"result_12.csv\",index = False)"
   ]
  },
  {
   "cell_type": "code",
   "execution_count": 52,
   "metadata": {},
   "outputs": [
    {
     "data": {
      "text/html": [
       "<div>\n",
       "<style scoped>\n",
       "    .dataframe tbody tr th:only-of-type {\n",
       "        vertical-align: middle;\n",
       "    }\n",
       "\n",
       "    .dataframe tbody tr th {\n",
       "        vertical-align: top;\n",
       "    }\n",
       "\n",
       "    .dataframe thead th {\n",
       "        text-align: right;\n",
       "    }\n",
       "</style>\n",
       "<table border=\"1\" class=\"dataframe\">\n",
       "  <thead>\n",
       "    <tr style=\"text-align: right;\">\n",
       "      <th></th>\n",
       "      <th>alpha2</th>\n",
       "      <th>alpha3</th>\n",
       "      <th>alpha4</th>\n",
       "      <th>alpha5</th>\n",
       "      <th>alpha6</th>\n",
       "      <th>alpha7</th>\n",
       "      <th>alpha8</th>\n",
       "      <th>alpha9</th>\n",
       "      <th>alpha10</th>\n",
       "      <th>alpha11</th>\n",
       "      <th>alpha12</th>\n",
       "    </tr>\n",
       "  </thead>\n",
       "  <tbody>\n",
       "    <tr>\n",
       "      <th>0</th>\n",
       "      <td>{'Profit': 51.70458984375, 'Total Trades': 115...</td>\n",
       "      <td>{'Profit': 49.50439453125, 'Total Trades': 124...</td>\n",
       "      <td>{'Profit': 48.404296875, 'Total Trades': 125, ...</td>\n",
       "      <td>{'Profit': 310.49560546875, 'Total Trades': 11...</td>\n",
       "      <td>{'Profit': 48.404296875, 'Total Trades': 124, ...</td>\n",
       "      <td>{'Profit': 52.8046875, 'Total Trades': 118, 'W...</td>\n",
       "      <td>{'Profit': 51.70458984375, 'Total Trades': 116...</td>\n",
       "      <td>{'Profit': 524.597900390625, 'Total Trades': 2...</td>\n",
       "      <td>{'Profit': 524.597900390625, 'Total Trades': 2...</td>\n",
       "      <td>{'Profit': 51.70458984375, 'Total Trades': 113...</td>\n",
       "      <td>{'Profit': 303.595703125, 'Total Trades': 125,...</td>\n",
       "    </tr>\n",
       "    <tr>\n",
       "      <th>1</th>\n",
       "      <td>[7, 14, 0, -0.9867023487400403]</td>\n",
       "      <td>[3, 0, -0.9994148320141686]</td>\n",
       "      <td>[9, 0, -0.9843327836088254]</td>\n",
       "      <td>[4, 0, -0.9794146305341901]</td>\n",
       "      <td>[4, 0, -0.998063993849938]</td>\n",
       "      <td>[4, 20, 0, -0.9970650140146375]</td>\n",
       "      <td>[10, 8, 0, -0.9983180708342115]</td>\n",
       "      <td>[7, 0, 1.963733178971668]</td>\n",
       "      <td>[4, 0, -0.6858613288110106]</td>\n",
       "      <td>[17, 9, 0, -0.9700672832258828]</td>\n",
       "      <td>[6, 0, -0.8079972587336343]</td>\n",
       "    </tr>\n",
       "    <tr>\n",
       "      <th>2</th>\n",
       "      <td>BPCL.NS</td>\n",
       "      <td>BPCL.NS</td>\n",
       "      <td>BPCL.NS</td>\n",
       "      <td>BPCL.NS</td>\n",
       "      <td>BPCL.NS</td>\n",
       "      <td>BPCL.NS</td>\n",
       "      <td>BPCL.NS</td>\n",
       "      <td>BPCL.NS</td>\n",
       "      <td>BPCL.NS</td>\n",
       "      <td>BPCL.NS</td>\n",
       "      <td>BPCL.NS</td>\n",
       "    </tr>\n",
       "  </tbody>\n",
       "</table>\n",
       "</div>"
      ],
      "text/plain": [
       "                                              alpha2  \\\n",
       "0  {'Profit': 51.70458984375, 'Total Trades': 115...   \n",
       "1                    [7, 14, 0, -0.9867023487400403]   \n",
       "2                                            BPCL.NS   \n",
       "\n",
       "                                              alpha3  \\\n",
       "0  {'Profit': 49.50439453125, 'Total Trades': 124...   \n",
       "1                        [3, 0, -0.9994148320141686]   \n",
       "2                                            BPCL.NS   \n",
       "\n",
       "                                              alpha4  \\\n",
       "0  {'Profit': 48.404296875, 'Total Trades': 125, ...   \n",
       "1                        [9, 0, -0.9843327836088254]   \n",
       "2                                            BPCL.NS   \n",
       "\n",
       "                                              alpha5  \\\n",
       "0  {'Profit': 310.49560546875, 'Total Trades': 11...   \n",
       "1                        [4, 0, -0.9794146305341901]   \n",
       "2                                            BPCL.NS   \n",
       "\n",
       "                                              alpha6  \\\n",
       "0  {'Profit': 48.404296875, 'Total Trades': 124, ...   \n",
       "1                         [4, 0, -0.998063993849938]   \n",
       "2                                            BPCL.NS   \n",
       "\n",
       "                                              alpha7  \\\n",
       "0  {'Profit': 52.8046875, 'Total Trades': 118, 'W...   \n",
       "1                    [4, 20, 0, -0.9970650140146375]   \n",
       "2                                            BPCL.NS   \n",
       "\n",
       "                                              alpha8  \\\n",
       "0  {'Profit': 51.70458984375, 'Total Trades': 116...   \n",
       "1                    [10, 8, 0, -0.9983180708342115]   \n",
       "2                                            BPCL.NS   \n",
       "\n",
       "                                              alpha9  \\\n",
       "0  {'Profit': 524.597900390625, 'Total Trades': 2...   \n",
       "1                          [7, 0, 1.963733178971668]   \n",
       "2                                            BPCL.NS   \n",
       "\n",
       "                                             alpha10  \\\n",
       "0  {'Profit': 524.597900390625, 'Total Trades': 2...   \n",
       "1                        [4, 0, -0.6858613288110106]   \n",
       "2                                            BPCL.NS   \n",
       "\n",
       "                                             alpha11  \\\n",
       "0  {'Profit': 51.70458984375, 'Total Trades': 113...   \n",
       "1                    [17, 9, 0, -0.9700672832258828]   \n",
       "2                                            BPCL.NS   \n",
       "\n",
       "                                             alpha12  \n",
       "0  {'Profit': 303.595703125, 'Total Trades': 125,...  \n",
       "1                        [6, 0, -0.8079972587336343]  \n",
       "2                                            BPCL.NS  "
      ]
     },
     "execution_count": 52,
     "metadata": {},
     "output_type": "execute_result"
    }
   ],
   "source": [
    "res = pd.read_csv(\"result_12.csv\")\n",
    "res"
   ]
  },
  {
   "cell_type": "code",
   "execution_count": null,
   "metadata": {},
   "outputs": [],
   "source": []
  },
  {
   "cell_type": "code",
   "execution_count": null,
   "metadata": {},
   "outputs": [],
   "source": []
  },
  {
   "cell_type": "code",
   "execution_count": null,
   "metadata": {},
   "outputs": [],
   "source": []
  },
  {
   "cell_type": "code",
   "execution_count": null,
   "metadata": {},
   "outputs": [],
   "source": []
  },
  {
   "cell_type": "code",
   "execution_count": null,
   "metadata": {},
   "outputs": [],
   "source": []
  },
  {
   "cell_type": "code",
   "execution_count": null,
   "metadata": {},
   "outputs": [],
   "source": []
  },
  {
   "cell_type": "code",
   "execution_count": null,
   "metadata": {},
   "outputs": [],
   "source": []
  },
  {
   "cell_type": "code",
   "execution_count": null,
   "metadata": {},
   "outputs": [],
   "source": []
  },
  {
   "cell_type": "code",
   "execution_count": null,
   "metadata": {},
   "outputs": [],
   "source": []
  },
  {
   "cell_type": "code",
   "execution_count": null,
   "metadata": {},
   "outputs": [],
   "source": []
  },
  {
   "cell_type": "code",
   "execution_count": null,
   "metadata": {},
   "outputs": [],
   "source": []
  },
  {
   "cell_type": "code",
   "execution_count": 13,
   "metadata": {},
   "outputs": [],
   "source": []
  },
  {
   "cell_type": "code",
   "execution_count": null,
   "metadata": {},
   "outputs": [],
   "source": []
  }
 ],
 "metadata": {
  "kernelspec": {
   "display_name": "Python 3 (ipykernel)",
   "language": "python",
   "name": "python3"
  },
  "language_info": {
   "codemirror_mode": {
    "name": "ipython",
    "version": 3
   },
   "file_extension": ".py",
   "mimetype": "text/x-python",
   "name": "python",
   "nbconvert_exporter": "python",
   "pygments_lexer": "ipython3",
   "version": "3.10.12"
  }
 },
 "nbformat": 4,
 "nbformat_minor": 2
}
